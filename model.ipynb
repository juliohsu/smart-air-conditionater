{
 "cells": [
  {
   "cell_type": "code",
   "execution_count": 1,
   "metadata": {},
   "outputs": [],
   "source": [
    "import torch\n",
    "import torch.nn as nn\n",
    "import torch.optim as optim"
   ]
  },
  {
   "cell_type": "code",
   "execution_count": null,
   "metadata": {},
   "outputs": [],
   "source": [
    "class EnergyManagementModel(nn.Module):\n",
    "    # model structure\n",
    "    def __init__(self):\n",
    "        super(EnergyManagementModel, self).__init__()\n",
    "        self.fc1 = nn.Linear(2, 32) # 2 inputs features (occupancy, temperature)\n",
    "        self.fc2 = nn.Linear(32, 16) # expand more features (feature engineering)\n",
    "        self.fc3 = nn.Linear(16, 1) # output: ac on/off (0, 1)\n",
    "        self.sigmoid = nn.Sigmoid()\n",
    "    # model data flow\n",
    "    def forward(self, x):\n",
    "        x = torch.relu(self.fc1(x))\n",
    "        x = torch.relu(self.fc2(x))\n",
    "        x = self.sigmoid(self.fc3(x))\n",
    "        return x"
   ]
  },
  {
   "cell_type": "code",
   "execution_count": null,
   "metadata": {},
   "outputs": [],
   "source": [
    "model = EnergyManagementModel() # define the model\n",
    "optimizer = optim.Adam(model.parameters(), lr=0.001) # model optimizer\n",
    "criterion = nn.BCELoss() # criteria for model loss"
   ]
  },
  {
   "cell_type": "code",
   "execution_count": null,
   "metadata": {},
   "outputs": [],
   "source": [
    "input = torch.tensor([[0, 25], [1, 22], [0, 30]], dtype=torch.float32) # input data (human presence and room temperature)\n",
    "output = torch.tensor([[0], [1], [1]], dtype=torch.float32) # output data"
   ]
  },
  {
   "cell_type": "code",
   "execution_count": null,
   "metadata": {},
   "outputs": [],
   "source": [
    "# model training\n",
    "for epoch in range(1000): \n",
    "    optimizer.zero_grad()\n",
    "    model_output = model(input)\n",
    "    model_loss = criterion(model_output, output)\n",
    "    model_loss.backward()\n",
    "    optimizer.step()\n",
    "    if (epoch % 100 == 0):\n",
    "        print(f\"epoch {epoch}, loss: {model_loss.item()}\")"
   ]
  },
  {
   "cell_type": "code",
   "execution_count": null,
   "metadata": {},
   "outputs": [],
   "source": [
    "# test\n",
    "new_input = torch.tensor([0, 28], dtype=torch.float32)\n",
    "new_output = model(new_input)\n",
    "print(f\"a room that has no one but is hot, the ai system says: {new_output}\")"
   ]
  }
 ],
 "metadata": {
  "kernelspec": {
   "display_name": "base",
   "language": "python",
   "name": "python3"
  },
  "language_info": {
   "codemirror_mode": {
    "name": "ipython",
    "version": 3
   },
   "file_extension": ".py",
   "mimetype": "text/x-python",
   "name": "python",
   "nbconvert_exporter": "python",
   "pygments_lexer": "ipython3",
   "version": "3.12.7"
  }
 },
 "nbformat": 4,
 "nbformat_minor": 2
}
